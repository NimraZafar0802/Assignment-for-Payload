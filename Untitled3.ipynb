{
 "cells": [
  {
   "cell_type": "code",
   "execution_count": 1,
   "metadata": {},
   "outputs": [],
   "source": [
    "## IMPORTS\n",
    "\n",
    "# Data Manipulation\n",
    "import numpy as np\n",
    "import pandas as pd\n",
    "\n",
    "# Data dtypes\n",
    "import json\n",
    "import re\n",
    "import string\n",
    "from pandas.io.json import json_normalize\n",
    "\n",
    "# Data Visualization\n",
    "import seaborn as sns\n",
    "import matplotlib.pyplot as plt\n",
    "%matplotlib inline\n",
    "\n",
    "# Textual data manipulation\n",
    "import nltk\n",
    "from nltk.corpus import stopwords\n",
    "from nltk.stem import WordNetLemmatizer\n",
    "from sklearn.feature_extraction.text import CountVectorizer,TfidfVectorizer\n",
    "\n",
    "# Algorithms\n",
    "from sklearn.naive_bayes import MultinomialNB\n",
    "from sklearn.linear_model import LogisticRegression\n",
    "from sklearn import model_selection\n",
    "from sklearn.metrics import classification_report\n",
    "from sklearn.metrics import confusion_matrix,accuracy_score\n",
    "from sklearn import metrics"
   ]
  },
  {
   "cell_type": "code",
   "execution_count": 2,
   "metadata": {},
   "outputs": [],
   "source": [
    "# Getting data from the file\n",
    "# Data is in json format and is nested json. \n",
    "# We will get the data and convert it into pandas dataframa\n",
    "\n",
    "with open(\"C:/Users/hp/Desktop/payload.json\", 'r', encoding=\"utf-8\") as json_file:\n",
    "    json_work = json.load(json_file)\n",
    "    \n",
    "df_original = json_normalize(json_work)"
   ]
  },
  {
   "cell_type": "code",
   "execution_count": 3,
   "metadata": {},
   "outputs": [],
   "source": [
    "# coppying the data frame for our analysis and model creation\n",
    "\n",
    "df = df_original"
   ]
  },
  {
   "cell_type": "code",
   "execution_count": 4,
   "metadata": {},
   "outputs": [
    {
     "data": {
      "text/html": [
       "<div>\n",
       "<style scoped>\n",
       "    .dataframe tbody tr th:only-of-type {\n",
       "        vertical-align: middle;\n",
       "    }\n",
       "\n",
       "    .dataframe tbody tr th {\n",
       "        vertical-align: top;\n",
       "    }\n",
       "\n",
       "    .dataframe thead th {\n",
       "        text-align: right;\n",
       "    }\n",
       "</style>\n",
       "<table border=\"1\" class=\"dataframe\">\n",
       "  <thead>\n",
       "    <tr style=\"text-align: right;\">\n",
       "      <th></th>\n",
       "      <th>isSafe</th>\n",
       "      <th>req.baseUrl</th>\n",
       "      <th>req.body.note.desc</th>\n",
       "      <th>req.body.note.title</th>\n",
       "      <th>req.fresh</th>\n",
       "      <th>req.headers.accept</th>\n",
       "      <th>req.headers.content-length</th>\n",
       "      <th>req.headers.content-type</th>\n",
       "      <th>req.headers.host</th>\n",
       "      <th>req.headers.org_id</th>\n",
       "      <th>...</th>\n",
       "      <th>req.hostname</th>\n",
       "      <th>req.ip</th>\n",
       "      <th>req.ips</th>\n",
       "      <th>req.originalUrl</th>\n",
       "      <th>req.path</th>\n",
       "      <th>req.protocol</th>\n",
       "      <th>req.secure</th>\n",
       "      <th>req.stale</th>\n",
       "      <th>req.subdomains</th>\n",
       "      <th>req.xhr</th>\n",
       "    </tr>\n",
       "  </thead>\n",
       "  <tbody>\n",
       "    <tr>\n",
       "      <th>0</th>\n",
       "      <td>True</td>\n",
       "      <td>/crm/note</td>\n",
       "      <td>Top recognize eat. Fact whom spend area thing ...</td>\n",
       "      <td>Tina Johnson</td>\n",
       "      <td>False</td>\n",
       "      <td>*/*</td>\n",
       "      <td>70</td>\n",
       "      <td>application/json</td>\n",
       "      <td>example.com</td>\n",
       "      <td>5f572820f65af8ac955b2e83</td>\n",
       "      <td>...</td>\n",
       "      <td>example.com</td>\n",
       "      <td>::ffff:117.99.96.244</td>\n",
       "      <td>[]</td>\n",
       "      <td>/crm/note</td>\n",
       "      <td>/note</td>\n",
       "      <td>http</td>\n",
       "      <td>False</td>\n",
       "      <td>True</td>\n",
       "      <td>[crm]</td>\n",
       "      <td>False</td>\n",
       "    </tr>\n",
       "    <tr>\n",
       "      <th>1</th>\n",
       "      <td>True</td>\n",
       "      <td>/crm/note</td>\n",
       "      <td>As possible American many prepare four strong....</td>\n",
       "      <td>Clayton Cooper</td>\n",
       "      <td>False</td>\n",
       "      <td>*/*</td>\n",
       "      <td>70</td>\n",
       "      <td>application/json</td>\n",
       "      <td>example.com</td>\n",
       "      <td>5f572820f65af8ac955b2e83</td>\n",
       "      <td>...</td>\n",
       "      <td>example.com</td>\n",
       "      <td>::ffff:117.99.96.244</td>\n",
       "      <td>[]</td>\n",
       "      <td>/crm/note</td>\n",
       "      <td>/note</td>\n",
       "      <td>http</td>\n",
       "      <td>False</td>\n",
       "      <td>True</td>\n",
       "      <td>[crm]</td>\n",
       "      <td>False</td>\n",
       "    </tr>\n",
       "    <tr>\n",
       "      <th>2</th>\n",
       "      <td>False</td>\n",
       "      <td>/crm/note</td>\n",
       "      <td>Tuesday Notes or 2 like 2 XSP Class</td>\n",
       "      <td>Curtis Wolfe</td>\n",
       "      <td>False</td>\n",
       "      <td>*/*</td>\n",
       "      <td>70</td>\n",
       "      <td>application/json</td>\n",
       "      <td>example.com</td>\n",
       "      <td>5f572820f65af8ac955b2e83</td>\n",
       "      <td>...</td>\n",
       "      <td>example.com</td>\n",
       "      <td>::ffff:117.99.96.244</td>\n",
       "      <td>[]</td>\n",
       "      <td>/crm/note</td>\n",
       "      <td>/note</td>\n",
       "      <td>http</td>\n",
       "      <td>False</td>\n",
       "      <td>True</td>\n",
       "      <td>[crm]</td>\n",
       "      <td>False</td>\n",
       "    </tr>\n",
       "    <tr>\n",
       "      <th>3</th>\n",
       "      <td>True</td>\n",
       "      <td>/crm/note</td>\n",
       "      <td>State third represent energy campaign not forg...</td>\n",
       "      <td>Laura Fisher</td>\n",
       "      <td>False</td>\n",
       "      <td>*/*</td>\n",
       "      <td>70</td>\n",
       "      <td>application/json</td>\n",
       "      <td>example.com</td>\n",
       "      <td>5f572820f65af8ac955b2e83</td>\n",
       "      <td>...</td>\n",
       "      <td>example.com</td>\n",
       "      <td>::ffff:117.99.96.244</td>\n",
       "      <td>[]</td>\n",
       "      <td>/crm/note</td>\n",
       "      <td>/note</td>\n",
       "      <td>http</td>\n",
       "      <td>False</td>\n",
       "      <td>True</td>\n",
       "      <td>[crm]</td>\n",
       "      <td>False</td>\n",
       "    </tr>\n",
       "    <tr>\n",
       "      <th>4</th>\n",
       "      <td>False</td>\n",
       "      <td>/crm/note</td>\n",
       "      <td>Us enjoy since. Time identify image position o...</td>\n",
       "      <td>Tyler Santos</td>\n",
       "      <td>False</td>\n",
       "      <td>*/*</td>\n",
       "      <td>70</td>\n",
       "      <td>application/json</td>\n",
       "      <td>example.com</td>\n",
       "      <td>5f572820f65af8ac955b2e83</td>\n",
       "      <td>...</td>\n",
       "      <td>example.com</td>\n",
       "      <td>::ffff:117.99.96.244</td>\n",
       "      <td>[]</td>\n",
       "      <td>/crm/note</td>\n",
       "      <td>/note</td>\n",
       "      <td>http</td>\n",
       "      <td>False</td>\n",
       "      <td>True</td>\n",
       "      <td>[crm]</td>\n",
       "      <td>False</td>\n",
       "    </tr>\n",
       "  </tbody>\n",
       "</table>\n",
       "<p>5 rows × 24 columns</p>\n",
       "</div>"
      ],
      "text/plain": [
       "   isSafe req.baseUrl                                 req.body.note.desc  \\\n",
       "0    True   /crm/note  Top recognize eat. Fact whom spend area thing ...   \n",
       "1    True   /crm/note  As possible American many prepare four strong....   \n",
       "2   False   /crm/note                Tuesday Notes or 2 like 2 XSP Class   \n",
       "3    True   /crm/note  State third represent energy campaign not forg...   \n",
       "4   False   /crm/note  Us enjoy since. Time identify image position o...   \n",
       "\n",
       "  req.body.note.title  req.fresh req.headers.accept  \\\n",
       "0        Tina Johnson      False                */*   \n",
       "1      Clayton Cooper      False                */*   \n",
       "2        Curtis Wolfe      False                */*   \n",
       "3        Laura Fisher      False                */*   \n",
       "4        Tyler Santos      False                */*   \n",
       "\n",
       "  req.headers.content-length req.headers.content-type req.headers.host  \\\n",
       "0                         70         application/json      example.com   \n",
       "1                         70         application/json      example.com   \n",
       "2                         70         application/json      example.com   \n",
       "3                         70         application/json      example.com   \n",
       "4                         70         application/json      example.com   \n",
       "\n",
       "         req.headers.org_id   ...   req.hostname                req.ip  \\\n",
       "0  5f572820f65af8ac955b2e83   ...    example.com  ::ffff:117.99.96.244   \n",
       "1  5f572820f65af8ac955b2e83   ...    example.com  ::ffff:117.99.96.244   \n",
       "2  5f572820f65af8ac955b2e83   ...    example.com  ::ffff:117.99.96.244   \n",
       "3  5f572820f65af8ac955b2e83   ...    example.com  ::ffff:117.99.96.244   \n",
       "4  5f572820f65af8ac955b2e83   ...    example.com  ::ffff:117.99.96.244   \n",
       "\n",
       "  req.ips req.originalUrl req.path req.protocol req.secure req.stale  \\\n",
       "0      []       /crm/note    /note         http      False      True   \n",
       "1      []       /crm/note    /note         http      False      True   \n",
       "2      []       /crm/note    /note         http      False      True   \n",
       "3      []       /crm/note    /note         http      False      True   \n",
       "4      []       /crm/note    /note         http      False      True   \n",
       "\n",
       "  req.subdomains req.xhr  \n",
       "0          [crm]   False  \n",
       "1          [crm]   False  \n",
       "2          [crm]   False  \n",
       "3          [crm]   False  \n",
       "4          [crm]   False  \n",
       "\n",
       "[5 rows x 24 columns]"
      ]
     },
     "execution_count": 4,
     "metadata": {},
     "output_type": "execute_result"
    }
   ],
   "source": [
    "## Data Understanding and manipulation\n",
    "\n",
    "df.head()"
   ]
  },
  {
   "cell_type": "code",
   "execution_count": 5,
   "metadata": {},
   "outputs": [
    {
     "data": {
      "text/plain": [
       "isSafe                           bool\n",
       "req.baseUrl                    object\n",
       "req.body.note.desc             object\n",
       "req.body.note.title            object\n",
       "req.fresh                        bool\n",
       "req.headers.accept             object\n",
       "req.headers.content-length     object\n",
       "req.headers.content-type       object\n",
       "req.headers.host               object\n",
       "req.headers.org_id             object\n",
       "req.headers.user-agent         object\n",
       "req.headers.user.name          object\n",
       "req.headers.user.role          object\n",
       "req.headers.user_session_id    object\n",
       "req.hostname                   object\n",
       "req.ip                         object\n",
       "req.ips                        object\n",
       "req.originalUrl                object\n",
       "req.path                       object\n",
       "req.protocol                   object\n",
       "req.secure                       bool\n",
       "req.stale                        bool\n",
       "req.subdomains                 object\n",
       "req.xhr                          bool\n",
       "dtype: object"
      ]
     },
     "execution_count": 5,
     "metadata": {},
     "output_type": "execute_result"
    }
   ],
   "source": [
    "# Getting to know the types of variables\n",
    "\n",
    "df.dtypes"
   ]
  },
  {
   "cell_type": "code",
   "execution_count": 6,
   "metadata": {},
   "outputs": [
    {
     "data": {
      "text/plain": [
       "(1000, 24)"
      ]
     },
     "execution_count": 6,
     "metadata": {},
     "output_type": "execute_result"
    }
   ],
   "source": [
    "# Getting to know the shape of the data\n",
    "\n",
    "df.shape"
   ]
  },
  {
   "cell_type": "code",
   "execution_count": 7,
   "metadata": {},
   "outputs": [
    {
     "data": {
      "text/plain": [
       "isSafe                         False\n",
       "req.baseUrl                    False\n",
       "req.body.note.desc             False\n",
       "req.body.note.title            False\n",
       "req.fresh                      False\n",
       "req.headers.accept             False\n",
       "req.headers.content-length     False\n",
       "req.headers.content-type       False\n",
       "req.headers.host               False\n",
       "req.headers.org_id             False\n",
       "req.headers.user-agent         False\n",
       "req.headers.user.name          False\n",
       "req.headers.user.role          False\n",
       "req.headers.user_session_id    False\n",
       "req.hostname                   False\n",
       "req.ip                         False\n",
       "req.ips                         True\n",
       "req.originalUrl                False\n",
       "req.path                       False\n",
       "req.protocol                   False\n",
       "req.secure                     False\n",
       "req.stale                      False\n",
       "req.subdomains                  True\n",
       "req.xhr                        False\n",
       "dtype: bool"
      ]
     },
     "execution_count": 7,
     "metadata": {},
     "output_type": "execute_result"
    }
   ],
   "source": [
    "# Checking if the data has list objects\n",
    "\n",
    "df.applymap(lambda x: isinstance(x, list)).all()"
   ]
  },
  {
   "cell_type": "code",
   "execution_count": 8,
   "metadata": {},
   "outputs": [],
   "source": [
    "# Changing all variable objects from list to str\n",
    "\n",
    "df['req.ips'] = [','.join(map(str, l)) for l in df['req.ips']]\n",
    "df['req.subdomains'] = [','.join(map(str, l)) for l in df['req.subdomains']]"
   ]
  },
  {
   "cell_type": "code",
   "execution_count": 9,
   "metadata": {},
   "outputs": [
    {
     "name": "stdout",
     "output_type": "stream",
     "text": [
      "<class 'pandas.core.frame.DataFrame'>\n",
      "RangeIndex: 1000 entries, 0 to 999\n",
      "Data columns (total 24 columns):\n",
      "isSafe                         1000 non-null bool\n",
      "req.baseUrl                    1000 non-null object\n",
      "req.body.note.desc             1000 non-null object\n",
      "req.body.note.title            1000 non-null object\n",
      "req.fresh                      1000 non-null bool\n",
      "req.headers.accept             1000 non-null object\n",
      "req.headers.content-length     1000 non-null object\n",
      "req.headers.content-type       1000 non-null object\n",
      "req.headers.host               1000 non-null object\n",
      "req.headers.org_id             1000 non-null object\n",
      "req.headers.user-agent         1000 non-null object\n",
      "req.headers.user.name          1000 non-null object\n",
      "req.headers.user.role          1000 non-null object\n",
      "req.headers.user_session_id    1000 non-null object\n",
      "req.hostname                   1000 non-null object\n",
      "req.ip                         1000 non-null object\n",
      "req.ips                        1000 non-null object\n",
      "req.originalUrl                1000 non-null object\n",
      "req.path                       1000 non-null object\n",
      "req.protocol                   1000 non-null object\n",
      "req.secure                     1000 non-null bool\n",
      "req.stale                      1000 non-null bool\n",
      "req.subdomains                 1000 non-null object\n",
      "req.xhr                        1000 non-null bool\n",
      "dtypes: bool(5), object(19)\n",
      "memory usage: 153.4+ KB\n"
     ]
    }
   ],
   "source": [
    "# Checking the overall data info\n",
    "\n",
    "df.info()"
   ]
  },
  {
   "cell_type": "code",
   "execution_count": 10,
   "metadata": {},
   "outputs": [
    {
     "data": {
      "text/plain": [
       "isSafe                         False\n",
       "req.baseUrl                    False\n",
       "req.body.note.desc             False\n",
       "req.body.note.title            False\n",
       "req.fresh                      False\n",
       "req.headers.accept             False\n",
       "req.headers.content-length     False\n",
       "req.headers.content-type       False\n",
       "req.headers.host               False\n",
       "req.headers.org_id             False\n",
       "req.headers.user-agent         False\n",
       "req.headers.user.name          False\n",
       "req.headers.user.role          False\n",
       "req.headers.user_session_id    False\n",
       "req.hostname                   False\n",
       "req.ip                         False\n",
       "req.ips                        False\n",
       "req.originalUrl                False\n",
       "req.path                       False\n",
       "req.protocol                   False\n",
       "req.secure                     False\n",
       "req.stale                      False\n",
       "req.subdomains                 False\n",
       "req.xhr                        False\n",
       "dtype: bool"
      ]
     },
     "execution_count": 10,
     "metadata": {},
     "output_type": "execute_result"
    }
   ],
   "source": [
    "# Checking if we have any null values\n",
    "\n",
    "df.isnull().any()"
   ]
  },
  {
   "cell_type": "code",
   "execution_count": 11,
   "metadata": {},
   "outputs": [
    {
     "data": {
      "text/plain": [
       "isSafe\n",
       "False    428\n",
       "True     572\n",
       "dtype: int64"
      ]
     },
     "execution_count": 11,
     "metadata": {},
     "output_type": "execute_result"
    }
   ],
   "source": [
    "# Checking the target variable size and details\n",
    "\n",
    "df.groupby('isSafe').size()"
   ]
  },
  {
   "cell_type": "code",
   "execution_count": 12,
   "metadata": {},
   "outputs": [
    {
     "name": "stdout",
     "output_type": "stream",
     "text": [
      "safe_payload =  57.199999999999996\n",
      "unsafe_payload =  42.800000000000004\n"
     ]
    }
   ],
   "source": [
    "# getting percentage for target variable as SAFE_PAYLOAD or UNSAFE_PAYLOAD\n",
    "\n",
    "safe_payload = len(df[df['isSafe'] == True])\n",
    "safe_payload_percentage = safe_payload/df.shape[0]*100\n",
    "unsafe_payload_percentage = 100 - safe_payload_percentage\n",
    "\n",
    "print(\"safe_payload = \", safe_payload_percentage)\n",
    "print(\"unsafe_payload = \", unsafe_payload_percentage)"
   ]
  },
  {
   "cell_type": "code",
   "execution_count": 13,
   "metadata": {},
   "outputs": [
    {
     "data": {
      "text/html": [
       "<div>\n",
       "<style scoped>\n",
       "    .dataframe tbody tr th:only-of-type {\n",
       "        vertical-align: middle;\n",
       "    }\n",
       "\n",
       "    .dataframe tbody tr th {\n",
       "        vertical-align: top;\n",
       "    }\n",
       "\n",
       "    .dataframe thead th {\n",
       "        text-align: right;\n",
       "    }\n",
       "</style>\n",
       "<table border=\"1\" class=\"dataframe\">\n",
       "  <thead>\n",
       "    <tr style=\"text-align: right;\">\n",
       "      <th></th>\n",
       "      <th>isSafe</th>\n",
       "      <th>req.baseUrl</th>\n",
       "      <th>req.body.note.desc</th>\n",
       "      <th>req.body.note.title</th>\n",
       "      <th>req.fresh</th>\n",
       "      <th>req.headers.accept</th>\n",
       "      <th>req.headers.content-length</th>\n",
       "      <th>req.headers.content-type</th>\n",
       "      <th>req.headers.host</th>\n",
       "      <th>req.headers.org_id</th>\n",
       "      <th>...</th>\n",
       "      <th>req.hostname</th>\n",
       "      <th>req.ip</th>\n",
       "      <th>req.ips</th>\n",
       "      <th>req.originalUrl</th>\n",
       "      <th>req.path</th>\n",
       "      <th>req.protocol</th>\n",
       "      <th>req.secure</th>\n",
       "      <th>req.stale</th>\n",
       "      <th>req.subdomains</th>\n",
       "      <th>req.xhr</th>\n",
       "    </tr>\n",
       "  </thead>\n",
       "  <tbody>\n",
       "    <tr>\n",
       "      <th>count</th>\n",
       "      <td>1000</td>\n",
       "      <td>1000</td>\n",
       "      <td>1000</td>\n",
       "      <td>1000</td>\n",
       "      <td>1000</td>\n",
       "      <td>1000</td>\n",
       "      <td>1000</td>\n",
       "      <td>1000</td>\n",
       "      <td>1000</td>\n",
       "      <td>1000</td>\n",
       "      <td>...</td>\n",
       "      <td>1000</td>\n",
       "      <td>1000</td>\n",
       "      <td>1000</td>\n",
       "      <td>1000</td>\n",
       "      <td>1000</td>\n",
       "      <td>1000</td>\n",
       "      <td>1000</td>\n",
       "      <td>1000</td>\n",
       "      <td>1000</td>\n",
       "      <td>1000</td>\n",
       "    </tr>\n",
       "    <tr>\n",
       "      <th>unique</th>\n",
       "      <td>2</td>\n",
       "      <td>1</td>\n",
       "      <td>750</td>\n",
       "      <td>994</td>\n",
       "      <td>1</td>\n",
       "      <td>1</td>\n",
       "      <td>1</td>\n",
       "      <td>1</td>\n",
       "      <td>1</td>\n",
       "      <td>1</td>\n",
       "      <td>...</td>\n",
       "      <td>1</td>\n",
       "      <td>1</td>\n",
       "      <td>1</td>\n",
       "      <td>1</td>\n",
       "      <td>1</td>\n",
       "      <td>1</td>\n",
       "      <td>1</td>\n",
       "      <td>1</td>\n",
       "      <td>1</td>\n",
       "      <td>1</td>\n",
       "    </tr>\n",
       "    <tr>\n",
       "      <th>top</th>\n",
       "      <td>True</td>\n",
       "      <td>/crm/note</td>\n",
       "      <td>note title &lt;title onPropertyChange title onPro...</td>\n",
       "      <td>Michael Smith</td>\n",
       "      <td>False</td>\n",
       "      <td>*/*</td>\n",
       "      <td>70</td>\n",
       "      <td>application/json</td>\n",
       "      <td>example.com</td>\n",
       "      <td>5f572820f65af8ac955b2e83</td>\n",
       "      <td>...</td>\n",
       "      <td>example.com</td>\n",
       "      <td>::ffff:117.99.96.244</td>\n",
       "      <td></td>\n",
       "      <td>/crm/note</td>\n",
       "      <td>/note</td>\n",
       "      <td>http</td>\n",
       "      <td>False</td>\n",
       "      <td>True</td>\n",
       "      <td>crm</td>\n",
       "      <td>False</td>\n",
       "    </tr>\n",
       "    <tr>\n",
       "      <th>freq</th>\n",
       "      <td>572</td>\n",
       "      <td>1000</td>\n",
       "      <td>36</td>\n",
       "      <td>3</td>\n",
       "      <td>1000</td>\n",
       "      <td>1000</td>\n",
       "      <td>1000</td>\n",
       "      <td>1000</td>\n",
       "      <td>1000</td>\n",
       "      <td>1000</td>\n",
       "      <td>...</td>\n",
       "      <td>1000</td>\n",
       "      <td>1000</td>\n",
       "      <td>1000</td>\n",
       "      <td>1000</td>\n",
       "      <td>1000</td>\n",
       "      <td>1000</td>\n",
       "      <td>1000</td>\n",
       "      <td>1000</td>\n",
       "      <td>1000</td>\n",
       "      <td>1000</td>\n",
       "    </tr>\n",
       "  </tbody>\n",
       "</table>\n",
       "<p>4 rows × 24 columns</p>\n",
       "</div>"
      ],
      "text/plain": [
       "       isSafe req.baseUrl                                 req.body.note.desc  \\\n",
       "count    1000        1000                                               1000   \n",
       "unique      2           1                                                750   \n",
       "top      True   /crm/note  note title <title onPropertyChange title onPro...   \n",
       "freq      572        1000                                                 36   \n",
       "\n",
       "       req.body.note.title req.fresh req.headers.accept  \\\n",
       "count                 1000      1000               1000   \n",
       "unique                 994         1                  1   \n",
       "top          Michael Smith     False                */*   \n",
       "freq                     3      1000               1000   \n",
       "\n",
       "       req.headers.content-length req.headers.content-type req.headers.host  \\\n",
       "count                        1000                     1000             1000   \n",
       "unique                          1                        1                1   \n",
       "top                            70         application/json      example.com   \n",
       "freq                         1000                     1000             1000   \n",
       "\n",
       "              req.headers.org_id   ...   req.hostname                req.ip  \\\n",
       "count                       1000   ...           1000                  1000   \n",
       "unique                         1   ...              1                     1   \n",
       "top     5f572820f65af8ac955b2e83   ...    example.com  ::ffff:117.99.96.244   \n",
       "freq                        1000   ...           1000                  1000   \n",
       "\n",
       "       req.ips req.originalUrl req.path req.protocol req.secure req.stale  \\\n",
       "count     1000            1000     1000         1000       1000      1000   \n",
       "unique       1               1        1            1          1         1   \n",
       "top                  /crm/note    /note         http      False      True   \n",
       "freq      1000            1000     1000         1000       1000      1000   \n",
       "\n",
       "       req.subdomains req.xhr  \n",
       "count            1000    1000  \n",
       "unique              1       1  \n",
       "top               crm   False  \n",
       "freq             1000    1000  \n",
       "\n",
       "[4 rows x 24 columns]"
      ]
     },
     "execution_count": 13,
     "metadata": {},
     "output_type": "execute_result"
    }
   ],
   "source": [
    "# Understanding the data using describe()\n",
    "\n",
    "df.describe()"
   ]
  },
  {
   "cell_type": "code",
   "execution_count": 14,
   "metadata": {},
   "outputs": [],
   "source": [
    "# As We can see the data have unique = 1 therefore .. all these variables\n",
    "# can be removed for further analysis therefore removing all these variables\n",
    "\n",
    "df.drop(columns=df.columns[df.nunique()==1], inplace=True)"
   ]
  },
  {
   "cell_type": "code",
   "execution_count": 15,
   "metadata": {},
   "outputs": [
    {
     "data": {
      "text/html": [
       "<div>\n",
       "<style scoped>\n",
       "    .dataframe tbody tr th:only-of-type {\n",
       "        vertical-align: middle;\n",
       "    }\n",
       "\n",
       "    .dataframe tbody tr th {\n",
       "        vertical-align: top;\n",
       "    }\n",
       "\n",
       "    .dataframe thead th {\n",
       "        text-align: right;\n",
       "    }\n",
       "</style>\n",
       "<table border=\"1\" class=\"dataframe\">\n",
       "  <thead>\n",
       "    <tr style=\"text-align: right;\">\n",
       "      <th></th>\n",
       "      <th>isSafe</th>\n",
       "      <th>req.body.note.desc</th>\n",
       "      <th>req.body.note.title</th>\n",
       "    </tr>\n",
       "  </thead>\n",
       "  <tbody>\n",
       "    <tr>\n",
       "      <th>0</th>\n",
       "      <td>True</td>\n",
       "      <td>Top recognize eat. Fact whom spend area thing ...</td>\n",
       "      <td>Tina Johnson</td>\n",
       "    </tr>\n",
       "    <tr>\n",
       "      <th>1</th>\n",
       "      <td>True</td>\n",
       "      <td>As possible American many prepare four strong....</td>\n",
       "      <td>Clayton Cooper</td>\n",
       "    </tr>\n",
       "    <tr>\n",
       "      <th>2</th>\n",
       "      <td>False</td>\n",
       "      <td>Tuesday Notes or 2 like 2 XSP Class</td>\n",
       "      <td>Curtis Wolfe</td>\n",
       "    </tr>\n",
       "    <tr>\n",
       "      <th>3</th>\n",
       "      <td>True</td>\n",
       "      <td>State third represent energy campaign not forg...</td>\n",
       "      <td>Laura Fisher</td>\n",
       "    </tr>\n",
       "    <tr>\n",
       "      <th>4</th>\n",
       "      <td>False</td>\n",
       "      <td>Us enjoy since. Time identify image position o...</td>\n",
       "      <td>Tyler Santos</td>\n",
       "    </tr>\n",
       "  </tbody>\n",
       "</table>\n",
       "</div>"
      ],
      "text/plain": [
       "   isSafe                                 req.body.note.desc  \\\n",
       "0    True  Top recognize eat. Fact whom spend area thing ...   \n",
       "1    True  As possible American many prepare four strong....   \n",
       "2   False                Tuesday Notes or 2 like 2 XSP Class   \n",
       "3    True  State third represent energy campaign not forg...   \n",
       "4   False  Us enjoy since. Time identify image position o...   \n",
       "\n",
       "  req.body.note.title  \n",
       "0        Tina Johnson  \n",
       "1      Clayton Cooper  \n",
       "2        Curtis Wolfe  \n",
       "3        Laura Fisher  \n",
       "4        Tyler Santos  "
      ]
     },
     "execution_count": 15,
     "metadata": {},
     "output_type": "execute_result"
    }
   ],
   "source": [
    "df.head()"
   ]
  },
  {
   "cell_type": "code",
   "execution_count": 16,
   "metadata": {},
   "outputs": [],
   "source": [
    "# As the \"req.body.note.title\" contains only name we can remove the variable\n",
    "\n",
    "del df['req.body.note.title']"
   ]
  },
  {
   "cell_type": "code",
   "execution_count": 17,
   "metadata": {},
   "outputs": [
    {
     "data": {
      "text/html": [
       "<div>\n",
       "<style scoped>\n",
       "    .dataframe tbody tr th:only-of-type {\n",
       "        vertical-align: middle;\n",
       "    }\n",
       "\n",
       "    .dataframe tbody tr th {\n",
       "        vertical-align: top;\n",
       "    }\n",
       "\n",
       "    .dataframe thead th {\n",
       "        text-align: right;\n",
       "    }\n",
       "</style>\n",
       "<table border=\"1\" class=\"dataframe\">\n",
       "  <thead>\n",
       "    <tr style=\"text-align: right;\">\n",
       "      <th></th>\n",
       "      <th>isSafe</th>\n",
       "      <th>req.body.note.desc</th>\n",
       "    </tr>\n",
       "  </thead>\n",
       "  <tbody>\n",
       "    <tr>\n",
       "      <th>0</th>\n",
       "      <td>True</td>\n",
       "      <td>Top recognize eat. Fact whom spend area thing ...</td>\n",
       "    </tr>\n",
       "    <tr>\n",
       "      <th>1</th>\n",
       "      <td>True</td>\n",
       "      <td>As possible American many prepare four strong....</td>\n",
       "    </tr>\n",
       "    <tr>\n",
       "      <th>2</th>\n",
       "      <td>False</td>\n",
       "      <td>Tuesday Notes or 2 like 2 XSP Class</td>\n",
       "    </tr>\n",
       "    <tr>\n",
       "      <th>3</th>\n",
       "      <td>True</td>\n",
       "      <td>State third represent energy campaign not forg...</td>\n",
       "    </tr>\n",
       "    <tr>\n",
       "      <th>4</th>\n",
       "      <td>False</td>\n",
       "      <td>Us enjoy since. Time identify image position o...</td>\n",
       "    </tr>\n",
       "  </tbody>\n",
       "</table>\n",
       "</div>"
      ],
      "text/plain": [
       "   isSafe                                 req.body.note.desc\n",
       "0    True  Top recognize eat. Fact whom spend area thing ...\n",
       "1    True  As possible American many prepare four strong....\n",
       "2   False                Tuesday Notes or 2 like 2 XSP Class\n",
       "3    True  State third represent energy campaign not forg...\n",
       "4   False  Us enjoy since. Time identify image position o..."
      ]
     },
     "execution_count": 17,
     "metadata": {},
     "output_type": "execute_result"
    }
   ],
   "source": [
    "df.head()"
   ]
  },
  {
   "cell_type": "code",
   "execution_count": 18,
   "metadata": {},
   "outputs": [
    {
     "data": {
      "text/html": [
       "<div>\n",
       "<style scoped>\n",
       "    .dataframe tbody tr th:only-of-type {\n",
       "        vertical-align: middle;\n",
       "    }\n",
       "\n",
       "    .dataframe tbody tr th {\n",
       "        vertical-align: top;\n",
       "    }\n",
       "\n",
       "    .dataframe thead th {\n",
       "        text-align: right;\n",
       "    }\n",
       "</style>\n",
       "<table border=\"1\" class=\"dataframe\">\n",
       "  <thead>\n",
       "    <tr style=\"text-align: right;\">\n",
       "      <th></th>\n",
       "      <th>isSafe</th>\n",
       "      <th>req.body.note.desc</th>\n",
       "    </tr>\n",
       "  </thead>\n",
       "  <tbody>\n",
       "    <tr>\n",
       "      <th>0</th>\n",
       "      <td>1</td>\n",
       "      <td>Top recognize eat. Fact whom spend area thing ...</td>\n",
       "    </tr>\n",
       "    <tr>\n",
       "      <th>1</th>\n",
       "      <td>1</td>\n",
       "      <td>As possible American many prepare four strong....</td>\n",
       "    </tr>\n",
       "    <tr>\n",
       "      <th>2</th>\n",
       "      <td>0</td>\n",
       "      <td>Tuesday Notes or 2 like 2 XSP Class</td>\n",
       "    </tr>\n",
       "    <tr>\n",
       "      <th>3</th>\n",
       "      <td>1</td>\n",
       "      <td>State third represent energy campaign not forg...</td>\n",
       "    </tr>\n",
       "    <tr>\n",
       "      <th>4</th>\n",
       "      <td>0</td>\n",
       "      <td>Us enjoy since. Time identify image position o...</td>\n",
       "    </tr>\n",
       "  </tbody>\n",
       "</table>\n",
       "</div>"
      ],
      "text/plain": [
       "   isSafe                                 req.body.note.desc\n",
       "0       1  Top recognize eat. Fact whom spend area thing ...\n",
       "1       1  As possible American many prepare four strong....\n",
       "2       0                Tuesday Notes or 2 like 2 XSP Class\n",
       "3       1  State third represent energy campaign not forg...\n",
       "4       0  Us enjoy since. Time identify image position o..."
      ]
     },
     "execution_count": 18,
     "metadata": {},
     "output_type": "execute_result"
    }
   ],
   "source": [
    "# As we have text data we will have to use NLP techniques\n",
    "# As the target variable is Boolean we can one hot encode it into 0, 1 \n",
    "# 0 ( False ), 1 ( True )\n",
    "\n",
    "df['isSafe'] = df['isSafe'].astype('int')\n",
    "df.head()"
   ]
  },
  {
   "cell_type": "code",
   "execution_count": 19,
   "metadata": {},
   "outputs": [
    {
     "data": {
      "text/plain": [
       "<seaborn.axisgrid.PairGrid at 0x25eb5ee7518>"
      ]
     },
     "execution_count": 19,
     "metadata": {},
     "output_type": "execute_result"
    },
    {
     "data": {
      "image/png": "[encoded data removed]",
      "text/plain": [
       "<Figure size 180x180 with 2 Axes>"
      ]
     },
     "metadata": {},
     "output_type": "display_data"
    }
   ],
   "source": [
    "## Data Visualization\n",
    "\n",
    "# Understanding data using pairplot\n",
    "sns.pairplot(df)"
   ]
  },
  {
   "cell_type": "code",
   "execution_count": 20,
   "metadata": {},
   "outputs": [
    {
     "data": {
      "text/plain": [
       "<matplotlib.axes._subplots.AxesSubplot at 0x25eb5fbd6d8>"
      ]
     },
     "execution_count": 20,
     "metadata": {},
     "output_type": "execute_result"
    },
    {
     "data": {
      "image/png": "[encoded data removed]",
      "text/plain": [
       "<Figure size 432x288 with 1 Axes>"
      ]
     },
     "metadata": {},
     "output_type": "display_data"
    }
   ],
   "source": [
    "# Understanding data using countplot\n",
    "sns.countplot(x='isSafe', data=df)"
   ]
  },
  {
   "cell_type": "code",
   "execution_count": 21,
   "metadata": {},
   "outputs": [],
   "source": [
    "## Implementing Machine Learning Model\n",
    "\n",
    "## Splitting the data into test and train sets\n",
    "\n",
    "# We will split the data into 70/30 split \n",
    "\n",
    "from sklearn.model_selection import train_test_split\n",
    "\n",
    "train, test = train_test_split(df, test_size=0.33)"
   ]
  },
  {
   "cell_type": "code",
   "execution_count": 22,
   "metadata": {},
   "outputs": [
    {
     "data": {
      "text/html": [
       "<div>\n",
       "<style scoped>\n",
       "    .dataframe tbody tr th:only-of-type {\n",
       "        vertical-align: middle;\n",
       "    }\n",
       "\n",
       "    .dataframe tbody tr th {\n",
       "        vertical-align: top;\n",
       "    }\n",
       "\n",
       "    .dataframe thead th {\n",
       "        text-align: right;\n",
       "    }\n",
       "</style>\n",
       "<table border=\"1\" class=\"dataframe\">\n",
       "  <thead>\n",
       "    <tr style=\"text-align: right;\">\n",
       "      <th></th>\n",
       "      <th>isSafe</th>\n",
       "      <th>req.body.note.desc</th>\n",
       "    </tr>\n",
       "  </thead>\n",
       "  <tbody>\n",
       "    <tr>\n",
       "      <th>288</th>\n",
       "      <td>0</td>\n",
       "      <td>Manage teach before city step conference girl....</td>\n",
       "    </tr>\n",
       "    <tr>\n",
       "      <th>175</th>\n",
       "      <td>0</td>\n",
       "      <td>&lt;img\u0013src=x onerror=\"javascript:alert(1)\"&gt;</td>\n",
       "    </tr>\n",
       "    <tr>\n",
       "      <th>573</th>\n",
       "      <td>1</td>\n",
       "      <td>Authority any thus listen age bed cover. Among...</td>\n",
       "    </tr>\n",
       "    <tr>\n",
       "      <th>936</th>\n",
       "      <td>1</td>\n",
       "      <td>Provide authority heart particularly. Team cas...</td>\n",
       "    </tr>\n",
       "    <tr>\n",
       "      <th>188</th>\n",
       "      <td>1</td>\n",
       "      <td>Particular develop father news not local mysel...</td>\n",
       "    </tr>\n",
       "  </tbody>\n",
       "</table>\n",
       "</div>"
      ],
      "text/plain": [
       "     isSafe                                 req.body.note.desc\n",
       "288       0  Manage teach before city step conference girl....\n",
       "175       0          <img\u0013src=x onerror=\"javascript:alert(1)\">\n",
       "573       1  Authority any thus listen age bed cover. Among...\n",
       "936       1  Provide authority heart particularly. Team cas...\n",
       "188       1  Particular develop father news not local mysel..."
      ]
     },
     "execution_count": 22,
     "metadata": {},
     "output_type": "execute_result"
    }
   ],
   "source": [
    "test.head()"
   ]
  },
  {
   "cell_type": "code",
   "execution_count": 23,
   "metadata": {},
   "outputs": [
    {
     "data": {
      "text/html": [
       "<div>\n",
       "<style scoped>\n",
       "    .dataframe tbody tr th:only-of-type {\n",
       "        vertical-align: middle;\n",
       "    }\n",
       "\n",
       "    .dataframe tbody tr th {\n",
       "        vertical-align: top;\n",
       "    }\n",
       "\n",
       "    .dataframe thead th {\n",
       "        text-align: right;\n",
       "    }\n",
       "</style>\n",
       "<table border=\"1\" class=\"dataframe\">\n",
       "  <thead>\n",
       "    <tr style=\"text-align: right;\">\n",
       "      <th></th>\n",
       "      <th>isSafe</th>\n",
       "      <th>req.body.note.desc</th>\n",
       "    </tr>\n",
       "  </thead>\n",
       "  <tbody>\n",
       "    <tr>\n",
       "      <th>241</th>\n",
       "      <td>1</td>\n",
       "      <td>Important on situation fight already available...</td>\n",
       "    </tr>\n",
       "    <tr>\n",
       "      <th>420</th>\n",
       "      <td>1</td>\n",
       "      <td>Create share no surface.\\nWater nation bed typ...</td>\n",
       "    </tr>\n",
       "    <tr>\n",
       "      <th>561</th>\n",
       "      <td>1</td>\n",
       "      <td>End culture key traditional this throughout. A...</td>\n",
       "    </tr>\n",
       "    <tr>\n",
       "      <th>273</th>\n",
       "      <td>1</td>\n",
       "      <td>Risk forward some make also. Successful meetin...</td>\n",
       "    </tr>\n",
       "    <tr>\n",
       "      <th>667</th>\n",
       "      <td>1</td>\n",
       "      <td>Price discussion ball save degree enough sport...</td>\n",
       "    </tr>\n",
       "  </tbody>\n",
       "</table>\n",
       "</div>"
      ],
      "text/plain": [
       "     isSafe                                 req.body.note.desc\n",
       "241       1  Important on situation fight already available...\n",
       "420       1  Create share no surface.\\nWater nation bed typ...\n",
       "561       1  End culture key traditional this throughout. A...\n",
       "273       1  Risk forward some make also. Successful meetin...\n",
       "667       1  Price discussion ball save degree enough sport..."
      ]
     },
     "execution_count": 23,
     "metadata": {},
     "output_type": "execute_result"
    }
   ],
   "source": [
    "train.head()"
   ]
  },
  {
   "cell_type": "code",
   "execution_count": 24,
   "metadata": {},
   "outputs": [
    {
     "data": {
      "image/png": "[encoded data removed]",
      "text/plain": [
       "<Figure size 432x288 with 1 Axes>"
      ]
     },
     "metadata": {},
     "output_type": "display_data"
    }
   ],
   "source": [
    "length_train = train['req.body.note.desc'].str.len()\n",
    "length_test = test['req.body.note.desc'].str.len() \n",
    "plt.hist(length_train, label=\"train_payload\") \n",
    "plt.hist(length_test, label=\"test_payload\") \n",
    "plt.legend() \n",
    "plt.show()"
   ]
  },
  {
   "cell_type": "code",
   "execution_count": 25,
   "metadata": {},
   "outputs": [
    {
     "name": "stderr",
     "output_type": "stream",
     "text": [
      "C:\\Users\\hp\\Anaconda3\\envs\\chatbot\\lib\\site-packages\\ipykernel_launcher.py:16: SettingWithCopyWarning: \n",
      "A value is trying to be set on a copy of a slice from a DataFrame.\n",
      "Try using .loc[row_indexer,col_indexer] = value instead\n",
      "\n",
      "See the caveats in the documentation: http://pandas.pydata.org/pandas-docs/stable/indexing.html#indexing-view-versus-copy\n",
      "  app.launch_new_instance()\n",
      "C:\\Users\\hp\\Anaconda3\\envs\\chatbot\\lib\\site-packages\\ipykernel_launcher.py:17: SettingWithCopyWarning: \n",
      "A value is trying to be set on a copy of a slice from a DataFrame.\n",
      "Try using .loc[row_indexer,col_indexer] = value instead\n",
      "\n",
      "See the caveats in the documentation: http://pandas.pydata.org/pandas-docs/stable/indexing.html#indexing-view-versus-copy\n"
     ]
    },
    {
     "data": {
      "text/plain": [
       "241    important on situation fight already available...\n",
       "420    create share no surfacewater nation bed type a...\n",
       "561    end culture key traditional this throughout ag...\n",
       "273    risk forward some make also successful meeting...\n",
       "667    price discussion ball save degree enough sport...\n",
       "Name: req.body.note.desc, dtype: object"
      ]
     },
     "execution_count": 25,
     "metadata": {},
     "output_type": "execute_result"
    }
   ],
   "source": [
    "# Cleaning the text data\n",
    "\n",
    "def clean_text(text):\n",
    "    '''Make text lowercase, remove text in square brackets,remove links,remove punctuation\n",
    "    and remove words containing numbers.'''\n",
    "    text = text.lower()\n",
    "    text = re.sub('\\[.*?\\]', '', text)\n",
    "    text = re.sub('https?://\\S+|www\\.\\S+', '', text)\n",
    "    text = re.sub('<.*?>+', '', text)\n",
    "    text = re.sub('[%s]' % re.escape(string.punctuation), '', text)\n",
    "    text = re.sub('\\n', '', text)\n",
    "    text = re.sub('\\w*\\d\\w*', '', text)\n",
    "    return text\n",
    "\n",
    "# Applying the cleaning function to both test and train datasets\n",
    "train['req.body.note.desc'] = train['req.body.note.desc'].apply(lambda x: clean_text(x))\n",
    "test['req.body.note.desc'] = test['req.body.note.desc'].apply(lambda x: clean_text(x))\n",
    "\n",
    "# updated text\n",
    "train['req.body.note.desc'].head()"
   ]
  },
  {
   "cell_type": "code",
   "execution_count": 26,
   "metadata": {},
   "outputs": [
    {
     "name": "stderr",
     "output_type": "stream",
     "text": [
      "C:\\Users\\hp\\Anaconda3\\envs\\chatbot\\lib\\site-packages\\ipykernel_launcher.py:5: SettingWithCopyWarning: \n",
      "A value is trying to be set on a copy of a slice from a DataFrame.\n",
      "Try using .loc[row_indexer,col_indexer] = value instead\n",
      "\n",
      "See the caveats in the documentation: http://pandas.pydata.org/pandas-docs/stable/indexing.html#indexing-view-versus-copy\n",
      "  \"\"\"\n",
      "C:\\Users\\hp\\Anaconda3\\envs\\chatbot\\lib\\site-packages\\ipykernel_launcher.py:6: SettingWithCopyWarning: \n",
      "A value is trying to be set on a copy of a slice from a DataFrame.\n",
      "Try using .loc[row_indexer,col_indexer] = value instead\n",
      "\n",
      "See the caveats in the documentation: http://pandas.pydata.org/pandas-docs/stable/indexing.html#indexing-view-versus-copy\n",
      "  \n"
     ]
    },
    {
     "data": {
      "text/plain": [
       "241    [important, on, situation, fight, already, ava...\n",
       "420    [create, share, no, surfacewater, nation, bed,...\n",
       "561    [end, culture, key, traditional, this, through...\n",
       "273    [risk, forward, some, make, also, successful, ...\n",
       "667    [price, discussion, ball, save, degree, enough...\n",
       "Name: req.body.note.desc, dtype: object"
      ]
     },
     "execution_count": 26,
     "metadata": {},
     "output_type": "execute_result"
    }
   ],
   "source": [
    "# We will turn the sentence into smaller chuncks using tokenization to remove \n",
    "# stopwords and lemmatization techniques\n",
    "\n",
    "tokenizer=nltk.tokenize.RegexpTokenizer(r'\\w+')\n",
    "train['req.body.note.desc'] = train['req.body.note.desc'].apply(lambda x:tokenizer.tokenize(x))\n",
    "test['req.body.note.desc'] = test['req.body.note.desc'].apply(lambda x:tokenizer.tokenize(x))\n",
    "train['req.body.note.desc'].head()"
   ]
  },
  {
   "cell_type": "code",
   "execution_count": 27,
   "metadata": {},
   "outputs": [
    {
     "data": {
      "text/plain": [
       "179"
      ]
     },
     "execution_count": 27,
     "metadata": {},
     "output_type": "execute_result"
    }
   ],
   "source": [
    "# getting all the stopwords\n",
    "\n",
    "len(stopwords.words('english'))"
   ]
  },
  {
   "cell_type": "code",
   "execution_count": 28,
   "metadata": {},
   "outputs": [
    {
     "name": "stderr",
     "output_type": "stream",
     "text": [
      "C:\\Users\\hp\\Anaconda3\\envs\\chatbot\\lib\\site-packages\\ipykernel_launcher.py:6: SettingWithCopyWarning: \n",
      "A value is trying to be set on a copy of a slice from a DataFrame.\n",
      "Try using .loc[row_indexer,col_indexer] = value instead\n",
      "\n",
      "See the caveats in the documentation: http://pandas.pydata.org/pandas-docs/stable/indexing.html#indexing-view-versus-copy\n",
      "  \n",
      "C:\\Users\\hp\\Anaconda3\\envs\\chatbot\\lib\\site-packages\\ipykernel_launcher.py:7: SettingWithCopyWarning: \n",
      "A value is trying to be set on a copy of a slice from a DataFrame.\n",
      "Try using .loc[row_indexer,col_indexer] = value instead\n",
      "\n",
      "See the caveats in the documentation: http://pandas.pydata.org/pandas-docs/stable/indexing.html#indexing-view-versus-copy\n",
      "  import sys\n"
     ]
    },
    {
     "data": {
      "text/html": [
       "<div>\n",
       "<style scoped>\n",
       "    .dataframe tbody tr th:only-of-type {\n",
       "        vertical-align: middle;\n",
       "    }\n",
       "\n",
       "    .dataframe tbody tr th {\n",
       "        vertical-align: top;\n",
       "    }\n",
       "\n",
       "    .dataframe thead th {\n",
       "        text-align: right;\n",
       "    }\n",
       "</style>\n",
       "<table border=\"1\" class=\"dataframe\">\n",
       "  <thead>\n",
       "    <tr style=\"text-align: right;\">\n",
       "      <th></th>\n",
       "      <th>isSafe</th>\n",
       "      <th>req.body.note.desc</th>\n",
       "    </tr>\n",
       "  </thead>\n",
       "  <tbody>\n",
       "    <tr>\n",
       "      <th>288</th>\n",
       "      <td>0</td>\n",
       "      <td>[manage, teach, city, step, conference, girl, ...</td>\n",
       "    </tr>\n",
       "    <tr>\n",
       "      <th>175</th>\n",
       "      <td>0</td>\n",
       "      <td>[]</td>\n",
       "    </tr>\n",
       "    <tr>\n",
       "      <th>573</th>\n",
       "      <td>1</td>\n",
       "      <td>[authority, thus, listen, age, bed, cover, amo...</td>\n",
       "    </tr>\n",
       "    <tr>\n",
       "      <th>936</th>\n",
       "      <td>1</td>\n",
       "      <td>[provide, authority, heart, particularly, team...</td>\n",
       "    </tr>\n",
       "    <tr>\n",
       "      <th>188</th>\n",
       "      <td>1</td>\n",
       "      <td>[particular, develop, father, news, local, ins...</td>\n",
       "    </tr>\n",
       "  </tbody>\n",
       "</table>\n",
       "</div>"
      ],
      "text/plain": [
       "     isSafe                                 req.body.note.desc\n",
       "288       0  [manage, teach, city, step, conference, girl, ...\n",
       "175       0                                                 []\n",
       "573       1  [authority, thus, listen, age, bed, cover, amo...\n",
       "936       1  [provide, authority, heart, particularly, team...\n",
       "188       1  [particular, develop, father, news, local, ins..."
      ]
     },
     "execution_count": 28,
     "metadata": {},
     "output_type": "execute_result"
    }
   ],
   "source": [
    "# removing stopwords\n",
    "\n",
    "def remove_stopwords(text):\n",
    "    words = [w for w in text if w not in stopwords.words('english')]\n",
    "    return words \n",
    "train['req.body.note.desc'] = train['req.body.note.desc'].apply(lambda x : remove_stopwords(x))\n",
    "test['req.body.note.desc'] = test['req.body.note.desc'].apply(lambda x : remove_stopwords(x))\n",
    "test.head()"
   ]
  },
  {
   "cell_type": "code",
   "execution_count": 29,
   "metadata": {},
   "outputs": [],
   "source": [
    "# lemmatization\n",
    "\n",
    "lem = WordNetLemmatizer()\n",
    "def lem_word(x):\n",
    "    return [lem.lemmatize(w) for w in x]"
   ]
  },
  {
   "cell_type": "code",
   "execution_count": 30,
   "metadata": {},
   "outputs": [
    {
     "name": "stderr",
     "output_type": "stream",
     "text": [
      "C:\\Users\\hp\\Anaconda3\\envs\\chatbot\\lib\\site-packages\\ipykernel_launcher.py:1: SettingWithCopyWarning: \n",
      "A value is trying to be set on a copy of a slice from a DataFrame.\n",
      "Try using .loc[row_indexer,col_indexer] = value instead\n",
      "\n",
      "See the caveats in the documentation: http://pandas.pydata.org/pandas-docs/stable/indexing.html#indexing-view-versus-copy\n",
      "  \"\"\"Entry point for launching an IPython kernel.\n",
      "C:\\Users\\hp\\Anaconda3\\envs\\chatbot\\lib\\site-packages\\ipykernel_launcher.py:2: SettingWithCopyWarning: \n",
      "A value is trying to be set on a copy of a slice from a DataFrame.\n",
      "Try using .loc[row_indexer,col_indexer] = value instead\n",
      "\n",
      "See the caveats in the documentation: http://pandas.pydata.org/pandas-docs/stable/indexing.html#indexing-view-versus-copy\n",
      "  \n"
     ]
    }
   ],
   "source": [
    "train['req.body.note.desc'] = train['req.body.note.desc'].apply(lem_word)\n",
    "test['req.body.note.desc'] = test['req.body.note.desc'].apply(lem_word)"
   ]
  },
  {
   "cell_type": "code",
   "execution_count": 31,
   "metadata": {},
   "outputs": [
    {
     "data": {
      "text/plain": [
       "241    [important, situation, fight, already, availab...\n",
       "420    [create, share, surfacewater, nation, bed, typ...\n",
       "561    [end, culture, key, traditional, throughout, a...\n",
       "273    [risk, forward, make, also, successful, meetin...\n",
       "667    [price, discussion, ball, save, degree, enough...\n",
       "515                                    [note, hello, de]\n",
       "219    [education, success, account, go, able, fear, ...\n",
       "481    [street, civil, decade, throw, company, likemi...\n",
       "330    [skin, certain, book, subject, day, set, momen...\n",
       "801    [away, medium, close, technology, use, light, ...\n",
       "Name: req.body.note.desc, dtype: object"
      ]
     },
     "execution_count": 31,
     "metadata": {},
     "output_type": "execute_result"
    }
   ],
   "source": [
    "# Checking data\n",
    "\n",
    "train['req.body.note.desc'][:10]"
   ]
  },
  {
   "cell_type": "code",
   "execution_count": 32,
   "metadata": {},
   "outputs": [
    {
     "name": "stderr",
     "output_type": "stream",
     "text": [
      "C:\\Users\\hp\\Anaconda3\\envs\\chatbot\\lib\\site-packages\\ipykernel_launcher.py:8: SettingWithCopyWarning: \n",
      "A value is trying to be set on a copy of a slice from a DataFrame.\n",
      "Try using .loc[row_indexer,col_indexer] = value instead\n",
      "\n",
      "See the caveats in the documentation: http://pandas.pydata.org/pandas-docs/stable/indexing.html#indexing-view-versus-copy\n",
      "  \n",
      "C:\\Users\\hp\\Anaconda3\\envs\\chatbot\\lib\\site-packages\\ipykernel_launcher.py:9: SettingWithCopyWarning: \n",
      "A value is trying to be set on a copy of a slice from a DataFrame.\n",
      "Try using .loc[row_indexer,col_indexer] = value instead\n",
      "\n",
      "See the caveats in the documentation: http://pandas.pydata.org/pandas-docs/stable/indexing.html#indexing-view-versus-copy\n",
      "  if __name__ == '__main__':\n"
     ]
    },
    {
     "data": {
      "text/html": [
       "<div>\n",
       "<style scoped>\n",
       "    .dataframe tbody tr th:only-of-type {\n",
       "        vertical-align: middle;\n",
       "    }\n",
       "\n",
       "    .dataframe tbody tr th {\n",
       "        vertical-align: top;\n",
       "    }\n",
       "\n",
       "    .dataframe thead th {\n",
       "        text-align: right;\n",
       "    }\n",
       "</style>\n",
       "<table border=\"1\" class=\"dataframe\">\n",
       "  <thead>\n",
       "    <tr style=\"text-align: right;\">\n",
       "      <th></th>\n",
       "      <th>isSafe</th>\n",
       "      <th>req.body.note.desc</th>\n",
       "    </tr>\n",
       "  </thead>\n",
       "  <tbody>\n",
       "    <tr>\n",
       "      <th>241</th>\n",
       "      <td>1</td>\n",
       "      <td>important situation fight already available u ...</td>\n",
       "    </tr>\n",
       "    <tr>\n",
       "      <th>420</th>\n",
       "      <td>1</td>\n",
       "      <td>create share surfacewater nation bed type amer...</td>\n",
       "    </tr>\n",
       "    <tr>\n",
       "      <th>561</th>\n",
       "      <td>1</td>\n",
       "      <td>end culture key traditional throughout ago sav...</td>\n",
       "    </tr>\n",
       "    <tr>\n",
       "      <th>273</th>\n",
       "      <td>1</td>\n",
       "      <td>risk forward make also successful meeting clos...</td>\n",
       "    </tr>\n",
       "    <tr>\n",
       "      <th>667</th>\n",
       "      <td>1</td>\n",
       "      <td>price discussion ball save degree enough sport...</td>\n",
       "    </tr>\n",
       "  </tbody>\n",
       "</table>\n",
       "</div>"
      ],
      "text/plain": [
       "     isSafe                                 req.body.note.desc\n",
       "241       1  important situation fight already available u ...\n",
       "420       1  create share surfacewater nation bed type amer...\n",
       "561       1  end culture key traditional throughout ago sav...\n",
       "273       1  risk forward make also successful meeting clos...\n",
       "667       1  price discussion ball save degree enough sport..."
      ]
     },
     "execution_count": 32,
     "metadata": {},
     "output_type": "execute_result"
    }
   ],
   "source": [
    "# Combining all the text into one\n",
    "\n",
    "def combine_text(list_of_text):\n",
    "    '''Takes a list of text and combines them into one large chunk of text.'''\n",
    "    combined_text = ' '.join(list_of_text)\n",
    "    return combined_text\n",
    "\n",
    "train['req.body.note.desc'] = train['req.body.note.desc'].apply(lambda x : combine_text(x))\n",
    "test['req.body.note.desc'] = test['req.body.note.desc'].apply(lambda x : combine_text(x))\n",
    "train['req.body.note.desc']\n",
    "train.head()"
   ]
  },
  {
   "cell_type": "code",
   "execution_count": 33,
   "metadata": {},
   "outputs": [
    {
     "name": "stdout",
     "output_type": "stream",
     "text": [
      "[[0 0 0 ... 0 0 0]]\n"
     ]
    }
   ],
   "source": [
    "# Label encoding all the values of the text data using count vectorizer\n",
    "\n",
    "count_vectorizer = CountVectorizer()\n",
    "train_vector = count_vectorizer.fit_transform(train['req.body.note.desc'])\n",
    "test_vector = count_vectorizer.transform(test['req.body.note.desc'])\n",
    "print(train_vector[0].todense())"
   ]
  },
  {
   "cell_type": "code",
   "execution_count": 34,
   "metadata": {},
   "outputs": [],
   "source": [
    "# Implementing Tf-IDF also onto our train data\n",
    "\n",
    "tfidf = TfidfVectorizer(min_df = 2,max_df = 0.5,ngram_range = (1,2))\n",
    "train_tfidf = tfidf.fit_transform(train['req.body.note.desc'])\n",
    "test_tfidf = tfidf.transform(test['req.body.note.desc'])"
   ]
  },
  {
   "cell_type": "code",
   "execution_count": 35,
   "metadata": {},
   "outputs": [
    {
     "name": "stderr",
     "output_type": "stream",
     "text": [
      "C:\\Users\\hp\\Anaconda3\\envs\\chatbot\\lib\\site-packages\\sklearn\\model_selection\\_split.py:605: Warning: The least populated class in y has only 1 members, which is too few. The minimum number of members in any class cannot be less than n_splits=5.\n",
      "  % (min_groups, self.n_splits)), Warning)\n"
     ]
    },
    {
     "name": "stdout",
     "output_type": "stream",
     "text": [
      "score: [0.06941839 1.         1.         1.         1.        ]\n"
     ]
    },
    {
     "name": "stderr",
     "output_type": "stream",
     "text": [
      "C:\\Users\\hp\\Anaconda3\\envs\\chatbot\\lib\\site-packages\\sklearn\\model_selection\\_split.py:605: Warning: The least populated class in y has only 1 members, which is too few. The minimum number of members in any class cannot be less than n_splits=5.\n",
      "  % (min_groups, self.n_splits)), Warning)\n"
     ]
    },
    {
     "name": "stdout",
     "output_type": "stream",
     "text": [
      "score of tfidf: [0.06941839 1.         1.         1.         1.        ]\n"
     ]
    }
   ],
   "source": [
    "# As the data is categorical and have 1000 rows we can use KNN to build our model\n",
    "# Implementing knn and checking the accuracy on the train\n",
    "# data using cross_val_score\n",
    "\n",
    "from sklearn.neighbors import KNeighborsClassifier\n",
    "classifier = KNeighborsClassifier(n_neighbors=2)\n",
    "\n",
    "scores_vector = model_selection.cross_val_score(classifier, train_vector, train['req.body.note.desc'], cv = 5, scoring = \"f1_micro\")\n",
    "print(\"score:\",scores_vector)\n",
    "scores_tfidf = model_selection.cross_val_score(classifier, train_tfidf, train['req.body.note.desc'], cv = 5, scoring = \"f1_micro\")\n",
    "print(\"score of tfidf:\",scores_tfidf)"
   ]
  },
  {
   "cell_type": "code",
   "execution_count": 36,
   "metadata": {},
   "outputs": [
    {
     "name": "stderr",
     "output_type": "stream",
     "text": [
      "C:\\Users\\hp\\Anaconda3\\envs\\chatbot\\lib\\site-packages\\ipykernel_launcher.py:5: SettingWithCopyWarning: \n",
      "A value is trying to be set on a copy of a slice from a DataFrame.\n",
      "Try using .loc[row_indexer,col_indexer] = value instead\n",
      "\n",
      "See the caveats in the documentation: http://pandas.pydata.org/pandas-docs/stable/indexing.html#indexing-view-versus-copy\n",
      "  \"\"\"\n"
     ]
    }
   ],
   "source": [
    "# Predicting the test data using the model\n",
    "\n",
    "classifier.fit(train_tfidf, train['isSafe'])\n",
    "y_pred = classifier.predict(test_tfidf)\n",
    "test['predict'] = y_pred"
   ]
  },
  {
   "cell_type": "code",
   "execution_count": 37,
   "metadata": {},
   "outputs": [
    {
     "name": "stdout",
     "output_type": "stream",
     "text": [
      "             precision    recall  f1-score   support\n",
      "\n",
      "          0       0.43      1.00      0.60       141\n",
      "          1       0.00      0.00      0.00       189\n",
      "\n",
      "avg / total       0.18      0.43      0.26       330\n",
      "\n",
      "[[141   0]\n",
      " [189   0]]\n",
      "0.42727272727272725\n",
      "Precision: 0.0\n",
      "Recall: 0.0\n"
     ]
    },
    {
     "name": "stderr",
     "output_type": "stream",
     "text": [
      "C:\\Users\\hp\\Anaconda3\\envs\\chatbot\\lib\\site-packages\\sklearn\\metrics\\classification.py:1135: UndefinedMetricWarning: Precision and F-score are ill-defined and being set to 0.0 in labels with no predicted samples.\n",
      "  'precision', 'predicted', average, warn_for)\n",
      "C:\\Users\\hp\\Anaconda3\\envs\\chatbot\\lib\\site-packages\\sklearn\\metrics\\classification.py:1135: UndefinedMetricWarning: Precision is ill-defined and being set to 0.0 due to no predicted samples.\n",
      "  'precision', 'predicted', average, warn_for)\n"
     ]
    }
   ],
   "source": [
    "# Checking Precision, Recall, and giving the\n",
    "# classification report for the prediction\n",
    "\n",
    "\n",
    "print(classification_report(test['isSafe'], test['predict']))\n",
    "print(confusion_matrix(test['isSafe'], test['predict']))\n",
    "print(accuracy_score(test['isSafe'], test['predict']))\n",
    "print(\"Precision:\",metrics.precision_score(test['isSafe'], test['predict']))\n",
    "print(\"Recall:\",metrics.recall_score(test['isSafe'], test['predict']))"
   ]
  },
  {
   "cell_type": "code",
   "execution_count": 38,
   "metadata": {},
   "outputs": [],
   "source": [
    "# As we can see the accuracy is 40% we will try to improve this model . \n",
    "# we will try to use logistic regression\n",
    "# we will use random.seed(), random_state while splitting the data\n",
    "# we will use stratified K fold in cross_val_score (cv = skf)\n",
    "# doing the process again to improve our model."
   ]
  },
  {
   "cell_type": "code",
   "execution_count": 39,
   "metadata": {},
   "outputs": [],
   "source": [
    "import random \n",
    "\n",
    "random.seed(10)\n",
    "train1, test1 = train_test_split(df, test_size=0.33, random_state=10)"
   ]
  },
  {
   "cell_type": "code",
   "execution_count": 40,
   "metadata": {},
   "outputs": [
    {
     "name": "stderr",
     "output_type": "stream",
     "text": [
      "C:\\Users\\hp\\Anaconda3\\envs\\chatbot\\lib\\site-packages\\ipykernel_launcher.py:16: SettingWithCopyWarning: \n",
      "A value is trying to be set on a copy of a slice from a DataFrame.\n",
      "Try using .loc[row_indexer,col_indexer] = value instead\n",
      "\n",
      "See the caveats in the documentation: http://pandas.pydata.org/pandas-docs/stable/indexing.html#indexing-view-versus-copy\n",
      "  app.launch_new_instance()\n",
      "C:\\Users\\hp\\Anaconda3\\envs\\chatbot\\lib\\site-packages\\ipykernel_launcher.py:17: SettingWithCopyWarning: \n",
      "A value is trying to be set on a copy of a slice from a DataFrame.\n",
      "Try using .loc[row_indexer,col_indexer] = value instead\n",
      "\n",
      "See the caveats in the documentation: http://pandas.pydata.org/pandas-docs/stable/indexing.html#indexing-view-versus-copy\n"
     ]
    }
   ],
   "source": [
    "# Cleaning the text data\n",
    "\n",
    "def clean_text(text):\n",
    "    '''Make text lowercase, remove text in square brackets,remove links,remove punctuation\n",
    "    and remove words containing numbers.'''\n",
    "    text = text.lower()\n",
    "    text = re.sub('\\[.*?\\]', '', text)\n",
    "    text = re.sub('https?://\\S+|www\\.\\S+', '', text)\n",
    "    text = re.sub('<.*?>+', '', text)\n",
    "    text = re.sub('[%s]' % re.escape(string.punctuation), '', text)\n",
    "    text = re.sub('\\n', '', text)\n",
    "    text = re.sub('\\w*\\d\\w*', '', text)\n",
    "    return text\n",
    "\n",
    "# Applying the cleaning function to both test and train datasets\n",
    "train1['req.body.note.desc'] = train1['req.body.note.desc'].apply(lambda x: clean_text(x))\n",
    "test1['req.body.note.desc'] = test1['req.body.note.desc'].apply(lambda x: clean_text(x))"
   ]
  },
  {
   "cell_type": "code",
   "execution_count": 41,
   "metadata": {},
   "outputs": [
    {
     "name": "stderr",
     "output_type": "stream",
     "text": [
      "C:\\Users\\hp\\Anaconda3\\envs\\chatbot\\lib\\site-packages\\ipykernel_launcher.py:2: SettingWithCopyWarning: \n",
      "A value is trying to be set on a copy of a slice from a DataFrame.\n",
      "Try using .loc[row_indexer,col_indexer] = value instead\n",
      "\n",
      "See the caveats in the documentation: http://pandas.pydata.org/pandas-docs/stable/indexing.html#indexing-view-versus-copy\n",
      "  \n",
      "C:\\Users\\hp\\Anaconda3\\envs\\chatbot\\lib\\site-packages\\ipykernel_launcher.py:3: SettingWithCopyWarning: \n",
      "A value is trying to be set on a copy of a slice from a DataFrame.\n",
      "Try using .loc[row_indexer,col_indexer] = value instead\n",
      "\n",
      "See the caveats in the documentation: http://pandas.pydata.org/pandas-docs/stable/indexing.html#indexing-view-versus-copy\n",
      "  This is separate from the ipykernel package so we can avoid doing imports until\n"
     ]
    }
   ],
   "source": [
    "tokenizer=nltk.tokenize.RegexpTokenizer(r'\\w+')\n",
    "train1['req.body.note.desc'] = train1['req.body.note.desc'].apply(lambda x:tokenizer.tokenize(x))\n",
    "test1['req.body.note.desc'] = test1['req.body.note.desc'].apply(lambda x:tokenizer.tokenize(x))"
   ]
  },
  {
   "cell_type": "code",
   "execution_count": 42,
   "metadata": {},
   "outputs": [
    {
     "name": "stderr",
     "output_type": "stream",
     "text": [
      "C:\\Users\\hp\\Anaconda3\\envs\\chatbot\\lib\\site-packages\\ipykernel_launcher.py:4: SettingWithCopyWarning: \n",
      "A value is trying to be set on a copy of a slice from a DataFrame.\n",
      "Try using .loc[row_indexer,col_indexer] = value instead\n",
      "\n",
      "See the caveats in the documentation: http://pandas.pydata.org/pandas-docs/stable/indexing.html#indexing-view-versus-copy\n",
      "  after removing the cwd from sys.path.\n",
      "C:\\Users\\hp\\Anaconda3\\envs\\chatbot\\lib\\site-packages\\ipykernel_launcher.py:5: SettingWithCopyWarning: \n",
      "A value is trying to be set on a copy of a slice from a DataFrame.\n",
      "Try using .loc[row_indexer,col_indexer] = value instead\n",
      "\n",
      "See the caveats in the documentation: http://pandas.pydata.org/pandas-docs/stable/indexing.html#indexing-view-versus-copy\n",
      "  \"\"\"\n"
     ]
    }
   ],
   "source": [
    "def remove_stopwords(text):\n",
    "    words = [w for w in text if w not in stopwords.words('english')]\n",
    "    return words \n",
    "train1['req.body.note.desc'] = train1['req.body.note.desc'].apply(lambda x : remove_stopwords(x))\n",
    "test1['req.body.note.desc'] = test1['req.body.note.desc'].apply(lambda x : remove_stopwords(x))"
   ]
  },
  {
   "cell_type": "code",
   "execution_count": 43,
   "metadata": {},
   "outputs": [],
   "source": [
    "lem = WordNetLemmatizer()\n",
    "def lem_word(x):\n",
    "    return [lem.lemmatize(w) for w in x]"
   ]
  },
  {
   "cell_type": "code",
   "execution_count": 44,
   "metadata": {},
   "outputs": [
    {
     "name": "stderr",
     "output_type": "stream",
     "text": [
      "C:\\Users\\hp\\Anaconda3\\envs\\chatbot\\lib\\site-packages\\ipykernel_launcher.py:1: SettingWithCopyWarning: \n",
      "A value is trying to be set on a copy of a slice from a DataFrame.\n",
      "Try using .loc[row_indexer,col_indexer] = value instead\n",
      "\n",
      "See the caveats in the documentation: http://pandas.pydata.org/pandas-docs/stable/indexing.html#indexing-view-versus-copy\n",
      "  \"\"\"Entry point for launching an IPython kernel.\n",
      "C:\\Users\\hp\\Anaconda3\\envs\\chatbot\\lib\\site-packages\\ipykernel_launcher.py:2: SettingWithCopyWarning: \n",
      "A value is trying to be set on a copy of a slice from a DataFrame.\n",
      "Try using .loc[row_indexer,col_indexer] = value instead\n",
      "\n",
      "See the caveats in the documentation: http://pandas.pydata.org/pandas-docs/stable/indexing.html#indexing-view-versus-copy\n",
      "  \n"
     ]
    }
   ],
   "source": [
    "train1['req.body.note.desc'] = train1['req.body.note.desc'].apply(lem_word)\n",
    "test1['req.body.note.desc'] = test1['req.body.note.desc'].apply(lem_word)"
   ]
  },
  {
   "cell_type": "code",
   "execution_count": 45,
   "metadata": {},
   "outputs": [
    {
     "name": "stderr",
     "output_type": "stream",
     "text": [
      "C:\\Users\\hp\\Anaconda3\\envs\\chatbot\\lib\\site-packages\\ipykernel_launcher.py:6: SettingWithCopyWarning: \n",
      "A value is trying to be set on a copy of a slice from a DataFrame.\n",
      "Try using .loc[row_indexer,col_indexer] = value instead\n",
      "\n",
      "See the caveats in the documentation: http://pandas.pydata.org/pandas-docs/stable/indexing.html#indexing-view-versus-copy\n",
      "  \n",
      "C:\\Users\\hp\\Anaconda3\\envs\\chatbot\\lib\\site-packages\\ipykernel_launcher.py:7: SettingWithCopyWarning: \n",
      "A value is trying to be set on a copy of a slice from a DataFrame.\n",
      "Try using .loc[row_indexer,col_indexer] = value instead\n",
      "\n",
      "See the caveats in the documentation: http://pandas.pydata.org/pandas-docs/stable/indexing.html#indexing-view-versus-copy\n",
      "  import sys\n"
     ]
    },
    {
     "data": {
      "text/html": [
       "<div>\n",
       "<style scoped>\n",
       "    .dataframe tbody tr th:only-of-type {\n",
       "        vertical-align: middle;\n",
       "    }\n",
       "\n",
       "    .dataframe tbody tr th {\n",
       "        vertical-align: top;\n",
       "    }\n",
       "\n",
       "    .dataframe thead th {\n",
       "        text-align: right;\n",
       "    }\n",
       "</style>\n",
       "<table border=\"1\" class=\"dataframe\">\n",
       "  <thead>\n",
       "    <tr style=\"text-align: right;\">\n",
       "      <th></th>\n",
       "      <th>isSafe</th>\n",
       "      <th>req.body.note.desc</th>\n",
       "    </tr>\n",
       "  </thead>\n",
       "  <tbody>\n",
       "    <tr>\n",
       "      <th>786</th>\n",
       "      <td>1</td>\n",
       "      <td>manager big around cause capital describe ago ...</td>\n",
       "    </tr>\n",
       "    <tr>\n",
       "      <th>183</th>\n",
       "      <td>0</td>\n",
       "      <td>tuesday note like xsp class</td>\n",
       "    </tr>\n",
       "    <tr>\n",
       "      <th>699</th>\n",
       "      <td>1</td>\n",
       "      <td>word physical perform third barboth view newsp...</td>\n",
       "    </tr>\n",
       "    <tr>\n",
       "      <th>102</th>\n",
       "      <td>0</td>\n",
       "      <td>upon difference travel write big lot tend clea...</td>\n",
       "    </tr>\n",
       "    <tr>\n",
       "      <th>322</th>\n",
       "      <td>1</td>\n",
       "      <td>act improve act soon bad trouble involve choos...</td>\n",
       "    </tr>\n",
       "  </tbody>\n",
       "</table>\n",
       "</div>"
      ],
      "text/plain": [
       "     isSafe                                 req.body.note.desc\n",
       "786       1  manager big around cause capital describe ago ...\n",
       "183       0                        tuesday note like xsp class\n",
       "699       1  word physical perform third barboth view newsp...\n",
       "102       0  upon difference travel write big lot tend clea...\n",
       "322       1  act improve act soon bad trouble involve choos..."
      ]
     },
     "execution_count": 45,
     "metadata": {},
     "output_type": "execute_result"
    }
   ],
   "source": [
    "def combine_text(list_of_text):\n",
    "    '''Takes a list of text and combines them into one large chunk of text.'''\n",
    "    combined_text = ' '.join(list_of_text)\n",
    "    return combined_text\n",
    "\n",
    "train1['req.body.note.desc'] = train1['req.body.note.desc'].apply(lambda x : combine_text(x))\n",
    "test1['req.body.note.desc'] = test1['req.body.note.desc'].apply(lambda x : combine_text(x))\n",
    "train1.head()"
   ]
  },
  {
   "cell_type": "code",
   "execution_count": 46,
   "metadata": {},
   "outputs": [
    {
     "name": "stdout",
     "output_type": "stream",
     "text": [
      "[[0 0 0 ... 0 0 0]]\n"
     ]
    }
   ],
   "source": [
    "count_vectorizer = CountVectorizer()\n",
    "train_vector1 = count_vectorizer.fit_transform(train1['req.body.note.desc'])\n",
    "test_vector1 = count_vectorizer.transform(test1['req.body.note.desc'])\n",
    "print(train_vector1[0].todense())"
   ]
  },
  {
   "cell_type": "code",
   "execution_count": 47,
   "metadata": {},
   "outputs": [],
   "source": [
    "tfidf = TfidfVectorizer(min_df = 2,max_df = 0.5,ngram_range = (1,2))\n",
    "train_tfidf1 = tfidf.fit_transform(train1['req.body.note.desc'])\n",
    "test_tfidf1 = tfidf.transform(test1['req.body.note.desc'])"
   ]
  },
  {
   "cell_type": "code",
   "execution_count": 48,
   "metadata": {},
   "outputs": [],
   "source": [
    "from sklearn.model_selection import StratifiedKFold\n",
    "\n",
    "skf = StratifiedKFold(n_splits=2, shuffle=True)"
   ]
  },
  {
   "cell_type": "code",
   "execution_count": 49,
   "metadata": {},
   "outputs": [
    {
     "name": "stderr",
     "output_type": "stream",
     "text": [
      "C:\\Users\\hp\\Anaconda3\\envs\\chatbot\\lib\\site-packages\\sklearn\\model_selection\\_split.py:605: Warning: The least populated class in y has only 1 members, which is too few. The minimum number of members in any class cannot be less than n_splits=2.\n",
      "  % (min_groups, self.n_splits)), Warning)\n"
     ]
    },
    {
     "name": "stdout",
     "output_type": "stream",
     "text": [
      "score: [0.25438596 0.25609756]\n"
     ]
    },
    {
     "name": "stderr",
     "output_type": "stream",
     "text": [
      "C:\\Users\\hp\\Anaconda3\\envs\\chatbot\\lib\\site-packages\\sklearn\\model_selection\\_split.py:605: Warning: The least populated class in y has only 1 members, which is too few. The minimum number of members in any class cannot be less than n_splits=2.\n",
      "  % (min_groups, self.n_splits)), Warning)\n"
     ]
    },
    {
     "name": "stdout",
     "output_type": "stream",
     "text": [
      "score of tfidf: [0.26687117 0.24418605]\n"
     ]
    }
   ],
   "source": [
    "lg = LogisticRegression(C = 1.0)\n",
    "\n",
    "scores_vector = model_selection.cross_val_score(lg, train_vector1, train1['req.body.note.desc'], cv = skf, scoring = \"f1_micro\")\n",
    "print(\"score:\",scores_vector)\n",
    "scores_tfidf = model_selection.cross_val_score(lg, train_tfidf1, train1['req.body.note.desc'], cv = skf, scoring = \"f1_micro\")\n",
    "\n",
    "print(\"score of tfidf:\",scores_tfidf)"
   ]
  },
  {
   "cell_type": "code",
   "execution_count": 50,
   "metadata": {},
   "outputs": [],
   "source": [
    "lg.fit(train_tfidf1, train1['isSafe'])\n",
    "y_pred1 = lg.predict(test_tfidf1)"
   ]
  },
  {
   "cell_type": "code",
   "execution_count": 51,
   "metadata": {
    "scrolled": true
   },
   "outputs": [
    {
     "name": "stderr",
     "output_type": "stream",
     "text": [
      "C:\\Users\\hp\\Anaconda3\\envs\\chatbot\\lib\\site-packages\\ipykernel_launcher.py:1: SettingWithCopyWarning: \n",
      "A value is trying to be set on a copy of a slice from a DataFrame.\n",
      "Try using .loc[row_indexer,col_indexer] = value instead\n",
      "\n",
      "See the caveats in the documentation: http://pandas.pydata.org/pandas-docs/stable/indexing.html#indexing-view-versus-copy\n",
      "  \"\"\"Entry point for launching an IPython kernel.\n"
     ]
    }
   ],
   "source": [
    "test1['predict'] = y_pred1"
   ]
  },
  {
   "cell_type": "code",
   "execution_count": 52,
   "metadata": {},
   "outputs": [
    {
     "data": {
      "text/html": [
       "<div>\n",
       "<style scoped>\n",
       "    .dataframe tbody tr th:only-of-type {\n",
       "        vertical-align: middle;\n",
       "    }\n",
       "\n",
       "    .dataframe tbody tr th {\n",
       "        vertical-align: top;\n",
       "    }\n",
       "\n",
       "    .dataframe thead th {\n",
       "        text-align: right;\n",
       "    }\n",
       "</style>\n",
       "<table border=\"1\" class=\"dataframe\">\n",
       "  <thead>\n",
       "    <tr style=\"text-align: right;\">\n",
       "      <th></th>\n",
       "      <th>isSafe</th>\n",
       "      <th>req.body.note.desc</th>\n",
       "      <th>predict</th>\n",
       "    </tr>\n",
       "  </thead>\n",
       "  <tbody>\n",
       "    <tr>\n",
       "      <th>841</th>\n",
       "      <td>1</td>\n",
       "      <td>responsibility today accept could reach althou...</td>\n",
       "      <td>1</td>\n",
       "    </tr>\n",
       "    <tr>\n",
       "      <th>956</th>\n",
       "      <td>1</td>\n",
       "      <td>today stand several door politics allow human ...</td>\n",
       "      <td>1</td>\n",
       "    </tr>\n",
       "    <tr>\n",
       "      <th>544</th>\n",
       "      <td>1</td>\n",
       "      <td>anyone yard account week activity ever employe...</td>\n",
       "      <td>1</td>\n",
       "    </tr>\n",
       "    <tr>\n",
       "      <th>173</th>\n",
       "      <td>0</td>\n",
       "      <td>bill develop truth responsibility participant ...</td>\n",
       "      <td>1</td>\n",
       "    </tr>\n",
       "    <tr>\n",
       "      <th>759</th>\n",
       "      <td>0</td>\n",
       "      <td>note title</td>\n",
       "      <td>0</td>\n",
       "    </tr>\n",
       "  </tbody>\n",
       "</table>\n",
       "</div>"
      ],
      "text/plain": [
       "     isSafe                                 req.body.note.desc  predict\n",
       "841       1  responsibility today accept could reach althou...        1\n",
       "956       1  today stand several door politics allow human ...        1\n",
       "544       1  anyone yard account week activity ever employe...        1\n",
       "173       0  bill develop truth responsibility participant ...        1\n",
       "759       0                                         note title        0"
      ]
     },
     "execution_count": 52,
     "metadata": {},
     "output_type": "execute_result"
    }
   ],
   "source": [
    "test1.head()"
   ]
  },
  {
   "cell_type": "code",
   "execution_count": 53,
   "metadata": {},
   "outputs": [
    {
     "name": "stdout",
     "output_type": "stream",
     "text": [
      "             precision    recall  f1-score   support\n",
      "\n",
      "          0       0.98      0.64      0.77       138\n",
      "          1       0.79      0.99      0.88       192\n",
      "\n",
      "avg / total       0.87      0.84      0.83       330\n",
      "\n",
      "[[ 88  50]\n",
      " [  2 190]]\n",
      "0.8424242424242424\n",
      "Precision: 0.7916666666666666\n",
      "Recall: 0.9895833333333334\n"
     ]
    }
   ],
   "source": [
    "print(classification_report(test1['isSafe'], test1['predict']))\n",
    "print(confusion_matrix(test1['isSafe'], test1['predict']))\n",
    "print(accuracy_score(test1['isSafe'], test1['predict']))\n",
    "print(\"Precision:\",metrics.precision_score(test1['isSafe'], test1['predict']))\n",
    "print(\"Recall:\",metrics.recall_score(test1['isSafe'], test1['predict']))"
   ]
  },
  {
   "cell_type": "code",
   "execution_count": 55,
   "metadata": {},
   "outputs": [],
   "source": [
    "# Analyzing confusion matrix we get the following measures\n",
    "# TP = 88, TN= 190, FN= 2, FP=50\n",
    "# Accuracy = TP + TN / TP + TN + FP + FN = 84.24 %\n",
    "# Precision = TP / TP + FP = 0.79166\n",
    "# Recall = TP / TP + FN = 0.9895\n",
    "\n",
    "####   From Nimra Zafar\n",
    "####   Submitting from here to Monoxor ---- Thank You for Reviewing"
   ]
  },
  {
   "cell_type": "code",
   "execution_count": null,
   "metadata": {},
   "outputs": [],
   "source": []
  }
 ],
 "metadata": {
  "kernelspec": {
   "display_name": "Python 3",
   "language": "python",
   "name": "python3"
  },
  "language_info": {
   "codemirror_mode": {
    "name": "ipython",
    "version": 3
   },
   "file_extension": ".py",
   "mimetype": "text/x-python",
   "name": "python",
   "nbconvert_exporter": "python",
   "pygments_lexer": "ipython3",
   "version": "3.5.5"
  }
 },
 "nbformat": 4,
 "nbformat_minor": 2
}
